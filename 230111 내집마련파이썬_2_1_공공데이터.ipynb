{
 "cells": [
  {
   "cell_type": "code",
   "execution_count": 2,
   "id": "86bfa4a9",
   "metadata": {},
   "outputs": [],
   "source": [
    "import pandas as pd\n",
    "import requests\n",
    "import zipfile\n",
    "import os\n",
    "import unicodedata"
   ]
  },
  {
   "cell_type": "code",
   "execution_count": 12,
   "id": "15afb354",
   "metadata": {},
   "outputs": [],
   "source": [
    "REGION_CODE_FULL_URL = 'https://www.juso.go.kr/dn.do?reqType=ALLMTCHG&fileName=202107_주소DB_전체분.zip&realFileName=202107ALLMTCHG00.zip&regYmd=2021&ctprvnCd=00&gubun=MTCH&stdde=202212&indutyCd=999&purpsCd=999&indutyRm=수집종료&purpsRm=수집종료'"
   ]
  },
  {
   "cell_type": "code",
   "execution_count": 13,
   "id": "c2715ef3",
   "metadata": {},
   "outputs": [],
   "source": [
    "REGION_FULL_HEADERS = {\n",
    "\t'Connection': 'keep-alive',\n",
    "\t'sec-ch-ua': '\"Chromium\";v=\"92\", \" Not A;Brand\";v=\"99\", \"Google Chrome\";v=\"92\"',\n",
    "\t'sec-ch-ua-mobile': '?0',\n",
    "\t'Upgrade-Insecure-Requests': '1',\n",
    "\t'User-Agent': 'Mozilla/5.0 (Macintosh; Intel Mac OS X 10_15_7) AppleWebKit/537.36 (KHTML, like Gecko) Chrome/92.0.4515.159 Safari/537.36',\n",
    "\t'Accept': 'text/html,application/xhtml+xml,application/xml;q=0.9,image/avif,image/webp,image/apng,*/*;q=0.8,application/signed-exchange;v=b3;q=0.9',\n",
    "\t'Sec-Fetch-Site': 'same-origin',\n",
    "\t'Sec-Fetch-Mode': 'navigate',\n",
    "\t'Sec-Fetch-User': '?1',\n",
    "\t'Sec-Fetch-Dest': 'document',\n",
    "\t'Referer': 'https://www.juso.go.kr/addrlink/main.do?cPath=99JM',\n",
    "\t'Accept-Language': 'ko,en-US;q=0.9,en;q=0.8,ko-KR;q=0.7',\n",
    "}"
   ]
  },
  {
   "cell_type": "code",
   "execution_count": 14,
   "id": "b93bd4ca",
   "metadata": {},
   "outputs": [],
   "source": [
    "REGION_FULL_COOKIES = {\n",
    "\t'histCookiesUse': 'true',\n",
    "\t'2021.08.15.15.00.38': 'histSearchWord41190',\n",
    "\t'2021.08.15.15.01.42': 'histSearchWord41190%20%uC6D0%uBBF8%uB3D9',\n",
    "\t'2021.08.15.15.01.45': 'histSearchWord%uC6D0%uBBF8%uB3D9',\n",
    "\t'elevisor_for_j2ee_uid': '4nfydhbr87f6y',\n",
    "\t'clientid': '010011417783',\n",
    "\t'JSESSIONID': 'UcwE5JzRVn2fhAcoZzUeugtgFUcmctf7j6cJEqcWUoGjK7rapRDLaelmQdF8m3AE.rnicwas4_servlet_engine1',\n",
    "\t'JSESSIONID': 'UcwE5JzRVn2fhAcoZzUeugtgFUcmctf7j6cJEqcWUoGjK7rapRDLaelmQdF8m3AE.rnicwas4_servlet_engine9',\n",
    "}"
   ]
  },
  {
   "cell_type": "code",
   "execution_count": 15,
   "id": "50c8ee5b",
   "metadata": {},
   "outputs": [],
   "source": [
    "response = requests.get(REGION_CODE_FULL_URL, headers=REGION_FULL_HEADERS, cookies=REGION_FULL_COOKIES)\n",
    "with open(\"/Users/blackbutterfly0852/Desktop/workspace/PROPERTY/REGION_CODE_FULL.zip\", 'wb') as fd:\n",
    "\tfor chunk in response.iter_content(chunk_size=1024):\n",
    "\t\tfd.write(chunk)"
   ]
  },
  {
   "cell_type": "code",
   "execution_count": 17,
   "id": "e2580885",
   "metadata": {},
   "outputs": [],
   "source": [
    "with zipfile.ZipFile('/Users/blackbutterfly0852/Desktop/workspace/PROPERTY/REGION_CODE_FULL.zip', 'r') as zf:\n",
    "\tzip_info = zf.infolist()\n",
    "\tdirname = '/Users/blackbutterfly0852/Desktop/workspace/PROPERTY/addr_code/'\n",
    "\tfor member in zip_info:\n",
    "\t\t# print(member.filename.encode('cp437').decode('euc-kr', 'ignore'))\n",
    "\t\tmember.filename = member.filename.encode('cp437').decode('euc-kr', 'ignore')\n",
    "\t\tzf.extract(member, dirname)"
   ]
  },
  {
   "cell_type": "code",
   "execution_count": 18,
   "id": "11fe0f4b",
   "metadata": {},
   "outputs": [
    {
     "name": "stdout",
     "output_type": "stream",
     "text": [
      "['부가정보_대구광역시.txt', '지번_서울특별시.txt', '지번_대전광역시.txt', '지번_경기도.txt', '지번_충청남도.txt', '[자료건수]주소DB(2021년 07월 31일 기준).txt', '지번_경상남도.txt', '지번_강원도.txt', '주소_전라남도.txt', '주소_서울특별시.txt', '주소_대전광역시.txt', '부가정보_전라북도.txt', '지번_울산광역시.txt', '개선_도로명코드_전체분.txt', '부가정보_광주광역시.txt', '부가정보_전라남도.txt', '주소_강원도.txt', '주소_전라북도.txt', '주소_울산광역시.txt', '주소_제주특별자치도.txt', '주소_대구광역시.txt', '지번_광주광역시.txt', '지번_충청북도.txt', '부가정보_대전광역시.txt', '부가정보_서울특별시.txt', '부가정보_강원도.txt', '[가이드]주소DB 활용방법.pdf', '주소_경기도.txt', '부가정보_울산광역시.txt', '지번_경상북도.txt', '주소_광주광역시.txt', '부가정보_충청북도.txt', '지번_제주특별자치도.txt', '주소_경상남도.txt', '주소_인천광역시.txt', '부가정보_부산광역시.txt', '주소_충청남도.txt', '부가정보_경상북도.txt', '지번_전라남도.txt', '지번_세종특별자치시.txt', '부가정보_제주특별자치도.txt', '부가정보_인천광역시.txt', '부가정보_경기도.txt', '주소_세종특별자치시.txt', '주소_부산광역시.txt', '지번_전라북도.txt', '부가정보_세종특별자치시.txt', '지번_부산광역시.txt', '주소_경상북도.txt', '지번_대구광역시.txt', '부가정보_충청남도.txt', '지번_인천광역시.txt', '부가정보_경상남도.txt', '주소_충청북도.txt']\n"
     ]
    }
   ],
   "source": [
    "filenames = os.listdir(dirname)\n",
    "print(filenames)"
   ]
  },
  {
   "cell_type": "code",
   "execution_count": 19,
   "id": "11226180",
   "metadata": {},
   "outputs": [
    {
     "data": {
      "text/plain": [
       "['부가정보_대구광역시.txt',\n",
       " '지번_서울특별시.txt',\n",
       " '지번_대전광역시.txt',\n",
       " '지번_경기도.txt',\n",
       " '지번_충청남도.txt',\n",
       " '[자료건수]주소DB(2021년 07월 31일 기준).txt',\n",
       " '지번_경상남도.txt',\n",
       " '지번_강원도.txt',\n",
       " '주소_전라남도.txt',\n",
       " '주소_서울특별시.txt',\n",
       " '주소_대전광역시.txt',\n",
       " '부가정보_전라북도.txt',\n",
       " '지번_울산광역시.txt',\n",
       " '개선_도로명코드_전체분.txt',\n",
       " '부가정보_광주광역시.txt',\n",
       " '부가정보_전라남도.txt',\n",
       " '주소_강원도.txt',\n",
       " '주소_전라북도.txt',\n",
       " '주소_울산광역시.txt',\n",
       " '주소_제주특별자치도.txt',\n",
       " '주소_대구광역시.txt',\n",
       " '지번_광주광역시.txt',\n",
       " '지번_충청북도.txt',\n",
       " '부가정보_대전광역시.txt',\n",
       " '부가정보_서울특별시.txt',\n",
       " '부가정보_강원도.txt',\n",
       " '[가이드]주소DB 활용방법.pdf',\n",
       " '주소_경기도.txt',\n",
       " '부가정보_울산광역시.txt',\n",
       " '지번_경상북도.txt',\n",
       " '주소_광주광역시.txt',\n",
       " '부가정보_충청북도.txt',\n",
       " '지번_제주특별자치도.txt',\n",
       " '주소_경상남도.txt',\n",
       " '주소_인천광역시.txt',\n",
       " '부가정보_부산광역시.txt',\n",
       " '주소_충청남도.txt',\n",
       " '부가정보_경상북도.txt',\n",
       " '지번_전라남도.txt',\n",
       " '지번_세종특별자치시.txt',\n",
       " '부가정보_제주특별자치도.txt',\n",
       " '부가정보_인천광역시.txt',\n",
       " '부가정보_경기도.txt',\n",
       " '주소_세종특별자치시.txt',\n",
       " '주소_부산광역시.txt',\n",
       " '지번_전라북도.txt',\n",
       " '부가정보_세종특별자치시.txt',\n",
       " '지번_부산광역시.txt',\n",
       " '주소_경상북도.txt',\n",
       " '지번_대구광역시.txt',\n",
       " '부가정보_충청남도.txt',\n",
       " '지번_인천광역시.txt',\n",
       " '부가정보_경상남도.txt',\n",
       " '주소_충청북도.txt']"
      ]
     },
     "execution_count": 19,
     "metadata": {},
     "output_type": "execute_result"
    }
   ],
   "source": [
    "filenames = [unicodedata.normalize('NFC', s) for s in filenames]\n",
    "filenames"
   ]
  },
  {
   "cell_type": "code",
   "execution_count": 20,
   "id": "8273a58a",
   "metadata": {},
   "outputs": [
    {
     "data": {
      "text/plain": [
       "['지번_서울특별시.txt',\n",
       " '지번_대전광역시.txt',\n",
       " '지번_경기도.txt',\n",
       " '지번_충청남도.txt',\n",
       " '지번_경상남도.txt',\n",
       " '지번_강원도.txt',\n",
       " '지번_울산광역시.txt',\n",
       " '지번_광주광역시.txt',\n",
       " '지번_충청북도.txt',\n",
       " '지번_경상북도.txt',\n",
       " '지번_제주특별자치도.txt',\n",
       " '지번_전라남도.txt',\n",
       " '지번_세종특별자치시.txt',\n",
       " '지번_전라북도.txt',\n",
       " '지번_부산광역시.txt',\n",
       " '지번_대구광역시.txt',\n",
       " '지번_인천광역시.txt']"
      ]
     },
     "execution_count": 20,
     "metadata": {},
     "output_type": "execute_result"
    }
   ],
   "source": [
    "filenames = [s for s in filenames if \"지번_\" in s]\n",
    "filenames"
   ]
  },
  {
   "cell_type": "code",
   "execution_count": 21,
   "id": "a23c54d2",
   "metadata": {},
   "outputs": [],
   "source": [
    "df = pd.DataFrame()\n",
    "for f in filenames:\n",
    "  temp = pd.read_csv(dirname + f, delimiter='|', encoding='cp949', low_memory=False,\n",
    "              names={\n",
    "                \"관리번호\": str,\n",
    "                \"일련번호\": str,\n",
    "                \"법정동코드\": str,\n",
    "                \"시도명\": str,\n",
    "                \"시군구명\": str,\n",
    "                \"법정읍면동명\": str,\n",
    "                \"법정리명\": str,\n",
    "                \"산여부\": str,\n",
    "                \"지번본번(번지)\": str,\n",
    "                \"지번부번(호)\": str,\n",
    "                \"대표여부\": str\n",
    "              }\n",
    "              )\n",
    "  df = pd.concat([df, temp], axis=0)"
   ]
  },
  {
   "cell_type": "code",
   "execution_count": 22,
   "id": "8b55c713",
   "metadata": {},
   "outputs": [],
   "source": [
    "df['시군구'] = df['법정동코드'].apply(lambda x: str(x)[0:5])\n",
    "header = [\"관리번호\", \"일련번호\", \"법정동코드\", \"시도명\", \"시군구명\", \"법정읍면동명\", \"법정리명\", \"산여부\", \"지번본번(번지)\", \"지번부번(호)\", \"대표여부\", '시군구']"
   ]
  },
  {
   "cell_type": "code",
   "execution_count": 26,
   "id": "a897cff1",
   "metadata": {},
   "outputs": [
    {
     "data": {
      "text/plain": [
       "경기도        1262477\n",
       "경상남도        968278\n",
       "전라남도        942063\n",
       "경상북도        859182\n",
       "충청남도        668489\n",
       "서울특별시       629094\n",
       "전라북도        549735\n",
       "강원도         545635\n",
       "충청북도        408516\n",
       "부산광역시       353792\n",
       "대구광역시       241413\n",
       "인천광역시       218858\n",
       "제주특별자치도     166974\n",
       "광주광역시       140390\n",
       "대전광역시       129083\n",
       "울산광역시       122358\n",
       "세종특별자치시      31592\n",
       "Name: 시도명, dtype: int64"
      ]
     },
     "execution_count": 26,
     "metadata": {},
     "output_type": "execute_result"
    }
   ],
   "source": [
    "df['시도명'].value_counts()"
   ]
  },
  {
   "cell_type": "code",
   "execution_count": 27,
   "id": "d39d3c73",
   "metadata": {},
   "outputs": [],
   "source": [
    "# 실거래\n",
    "def create_date_range():\n",
    "    date_list = pd.date_range(start=\"2011-12-01\", end=\"2011-12-01\")\n",
    "    date_list = list(set(date_list.format(formatter=lambda x: x.strftime(\"%Y%m\"))))\n",
    "  # date_list : ['201209', '201205', '201207', '201212', '201206', '201112', '201210', '201211', '201203', '201208', '201204', '201202', '201201']\n",
    "    return date_list"
   ]
  },
  {
   "cell_type": "code",
   "execution_count": 28,
   "id": "20224e90",
   "metadata": {},
   "outputs": [],
   "source": [
    "def df_for_data(rows, tx_columns):\n",
    "  row_list = []\n",
    "  name_list = []\n",
    "  column_list = []\n",
    "  rows_len = len(rows)\n",
    "  for i in range(0, rows_len):\n",
    "    columns = rows[i].find_all()\n",
    "\n",
    "    columns_len = len(columns)\n",
    "    for j in range(0, columns_len):\n",
    "      if i == 0:\n",
    "        name_list.append(columns[j].name)\n",
    "      eachColumn = columns[j].text\n",
    "      column_list.append(eachColumn)\n",
    "    row_list.append(column_list)\n",
    "    column_list = []\n",
    "  df = pd.DataFrame(row_list, columns=tx_columns)\n",
    "  return df"
   ]
  },
  {
   "cell_type": "code",
   "execution_count": null,
   "id": "2e591ab2",
   "metadata": {},
   "outputs": [],
   "source": []
  },
  {
   "cell_type": "code",
   "execution_count": null,
   "id": "d7d0052a",
   "metadata": {},
   "outputs": [],
   "source": []
  },
  {
   "cell_type": "code",
   "execution_count": null,
   "id": "c2c801eb",
   "metadata": {},
   "outputs": [],
   "source": []
  },
  {
   "cell_type": "code",
   "execution_count": null,
   "id": "002a47d9",
   "metadata": {},
   "outputs": [],
   "source": []
  }
 ],
 "metadata": {
  "kernelspec": {
   "display_name": "Python 3 (ipykernel)",
   "language": "python",
   "name": "python3"
  },
  "language_info": {
   "codemirror_mode": {
    "name": "ipython",
    "version": 3
   },
   "file_extension": ".py",
   "mimetype": "text/x-python",
   "name": "python",
   "nbconvert_exporter": "python",
   "pygments_lexer": "ipython3",
   "version": "3.10.9"
  }
 },
 "nbformat": 4,
 "nbformat_minor": 5
}
